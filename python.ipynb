{
 "cells": [
  {
   "cell_type": "code",
   "execution_count": 1,
   "id": "cc7ea213",
   "metadata": {},
   "outputs": [
    {
     "name": "stdout",
     "output_type": "stream",
     "text": [
      "Hello World\n"
     ]
    }
   ],
   "source": [
    "print(\"Hello World\")"
   ]
  },
  {
   "cell_type": "code",
   "execution_count": 4,
   "id": "793d7f47",
   "metadata": {},
   "outputs": [
    {
     "name": "stdout",
     "output_type": "stream",
     "text": [
      "aman\n",
      "24\n",
      "1.06\n"
     ]
    }
   ],
   "source": [
    "name = \"aman\"\n",
    "age = 24\n",
    "d_o_b = 01.06\n",
    "is_adulr = False\n",
    "\n",
    "print(name)\n",
    "print(age)\n",
    "print(d_o_b)"
   ]
  },
  {
   "cell_type": "code",
   "execution_count": 12,
   "id": "978214df",
   "metadata": {},
   "outputs": [
    {
     "name": "stdout",
     "output_type": "stream",
     "text": [
      "what is your name : deep\n",
      "deep\n",
      "hello deep\n"
     ]
    }
   ],
   "source": [
    "name = input(\"what is your name : \")\n",
    "print(name)\n",
    "print(\"hello \"+name) #concatenation"
   ]
  },
  {
   "cell_type": "code",
   "execution_count": 20,
   "id": "57786f81",
   "metadata": {},
   "outputs": [
    {
     "name": "stdout",
     "output_type": "stream",
     "text": [
      "enter your age : 25\n",
      "27\n"
     ]
    }
   ],
   "source": [
    "old_age = input(\"enter your age : \")\n",
    "\n",
    "new_age = int(old_age) + 2\n",
    "print(new_age)"
   ]
  },
  {
   "cell_type": "code",
   "execution_count": 24,
   "id": "d1f65bea",
   "metadata": {},
   "outputs": [
    {
     "name": "stdout",
     "output_type": "stream",
     "text": [
      "18.0\n",
      "18\n"
     ]
    },
    {
     "data": {
      "text/plain": [
       "False"
      ]
     },
     "execution_count": 24,
     "metadata": {},
     "output_type": "execute_result"
    }
   ],
   "source": [
    "number = 18\n",
    "print(float(number))\n",
    "int()\n",
    "print(str(number))\n",
    "bool()"
   ]
  },
  {
   "cell_type": "code",
   "execution_count": 27,
   "id": "5f4c6085",
   "metadata": {},
   "outputs": [
    {
     "name": "stdout",
     "output_type": "stream",
     "text": [
      "enter first no. : 5\n",
      "enter secound no. : 55\n",
      "60\n"
     ]
    }
   ],
   "source": [
    "first = int(input(\"enter first no. : \"))\n",
    "secound = int(input(\"enter secound no. : \"))\n",
    "\n",
    "sum = first + secound \n",
    "print(sum)"
   ]
  },
  {
   "cell_type": "code",
   "execution_count": 3,
   "id": "2b444671",
   "metadata": {},
   "outputs": [
    {
     "name": "stdout",
     "output_type": "stream",
     "text": [
      "1\n",
      "2\n",
      "1\n",
      "Deep Modak\n",
      "False\n"
     ]
    }
   ],
   "source": [
    "name =\"Deep Dutta\"\n",
    "\n",
    "# print(name.upper())\n",
    "# name_lower = name.lower()\n",
    "# print(name_lower)\n",
    "print(name.find('e'))\n",
    "print(name.count(\"e\"))\n",
    "print(name.index(\"e\"))\n",
    "\n",
    "print(name.replace(\"Dutta\", \"Modak\"))\n",
    "print(\"T\" in name) #for see the alphabet is present or not\n"
   ]
  },
  {
   "cell_type": "code",
   "execution_count": 8,
   "id": "e694139f",
   "metadata": {},
   "outputs": [
    {
     "name": "stdout",
     "output_type": "stream",
     "text": [
      "10\n",
      "1.6666666666666667\n",
      "625\n"
     ]
    }
   ],
   "source": [
    "print(5*2)\n",
    "print(5/3)\n",
    "\n",
    "print(5**4)"
   ]
  },
  {
   "cell_type": "code",
   "execution_count": 11,
   "id": "0affe02a",
   "metadata": {},
   "outputs": [
    {
     "name": "stdout",
     "output_type": "stream",
     "text": [
      "enter your age1\n",
      "you are a child\n"
     ]
    }
   ],
   "source": [
    "age = int(input(\"enter your age\"))\n",
    "\n",
    "if age >=18:\n",
    "    print(\"your are an adult\")\n",
    "    print(\"you can vote\")\n",
    "elif age <18 and age >3:\n",
    "    print(\"you ate in school\")\n",
    "else:\n",
    "    print(\"you are a child\")"
   ]
  },
  {
   "cell_type": "markdown",
   "id": "b8ac973e",
   "metadata": {},
   "source": [
    "# calculator"
   ]
  },
  {
   "cell_type": "code",
   "execution_count": 4,
   "id": "375e19eb",
   "metadata": {},
   "outputs": [
    {
     "name": "stdout",
     "output_type": "stream",
     "text": [
      "enter your first number : 7\n",
      "enter operator (+,-, *, /)-\n",
      "enter your first numger : 9\n",
      "-2\n"
     ]
    }
   ],
   "source": [
    "a = int(input(\"enter your first number : \"))\n",
    "operator = input(\"enter operator (+,-, *, /)\")\n",
    "b = int(input(\"enter your first numger : \"))\n",
    "\n",
    "if operator == \"+\":\n",
    "    print(a + b)\n",
    "elif operator == \"-\":\n",
    "    print(a - b)\n",
    "elif operator == \"*\":\n",
    "    print(a * b)\n",
    "elif operator == \"%\":\n",
    "    print(a % b)\n",
    "elif operator == \"/\":\n",
    "    print(a / b)\n",
    "else:\n",
    "    print(\"invalide option\")\n",
    "\n",
    "    \n",
    "\n",
    "# if operator\n",
    "\n",
    "# print(\"Menu\")\n",
    "# print(\"1. sum \")\n",
    "# print(\"2. subtrct\")\n",
    "# print(\"3. exit\")\n",
    "\n",
    "\n",
    "\n",
    "# while(1):\n",
    "    "
   ]
  },
  {
   "cell_type": "code",
   "execution_count": 5,
   "id": "7634b875",
   "metadata": {},
   "outputs": [
    {
     "name": "stdout",
     "output_type": "stream",
     "text": [
      "range(0, 5)\n"
     ]
    }
   ],
   "source": [
    "name = range(5)\n",
    "print(name)"
   ]
  },
  {
   "cell_type": "code",
   "execution_count": 14,
   "id": "d05763ed",
   "metadata": {},
   "outputs": [
    {
     "name": "stdout",
     "output_type": "stream",
     "text": [
      "*\n",
      "**\n",
      "***\n",
      "****\n",
      "*****\n"
     ]
    }
   ],
   "source": [
    "i =1\n",
    "while i <= 5:\n",
    "    print(i * \"*\")\n",
    "    i = i+1\n",
    "    "
   ]
  },
  {
   "cell_type": "code",
   "execution_count": 16,
   "id": "19b27134",
   "metadata": {},
   "outputs": [
    {
     "name": "stdout",
     "output_type": "stream",
     "text": [
      "*****\n",
      "****\n",
      "***\n",
      "**\n",
      "*\n"
     ]
    }
   ],
   "source": [
    "i =5\n",
    "while i >= 1:\n",
    "    print(i * \"*\")\n",
    "    i = i-1\n",
    "    "
   ]
  },
  {
   "cell_type": "code",
   "execution_count": 19,
   "id": "1246aaf6",
   "metadata": {},
   "outputs": [
    {
     "name": "stdout",
     "output_type": "stream",
     "text": [
      "1\n",
      "2\n",
      "3\n",
      "4\n",
      "5\n"
     ]
    }
   ],
   "source": [
    "for item in range(5):\n",
    "    print(item +1)"
   ]
  },
  {
   "cell_type": "code",
   "execution_count": 41,
   "id": "e553e4f6",
   "metadata": {},
   "outputs": [
    {
     "name": "stdout",
     "output_type": "stream",
     "text": [
      "[98, 94, 45, 66]\n",
      "94\n",
      "45\n",
      "[94, 45]\n",
      "-------------------\n",
      "98\n",
      "94\n",
      "45\n",
      "66\n",
      "-------------------\n"
     ]
    }
   ],
   "source": [
    "marks = [98,94,45,66]\n",
    "print(marks)\n",
    "print(marks[-3])\n",
    "print(marks[2])\n",
    "print(marks[1:3])\n",
    "print(\"-------------------\")\n",
    "for score in marks:\n",
    "    print(score)\n",
    "print(\"-------------------\")"
   ]
  },
  {
   "cell_type": "code",
   "execution_count": 46,
   "id": "b8d1178d",
   "metadata": {},
   "outputs": [
    {
     "name": "stdout",
     "output_type": "stream",
     "text": [
      "[98, 88, 88, 88, 88, 94, 45, 66, 5, 5, 5, 5, 5]\n",
      "[98, 88, 88, 88, 88, 88, 94, 45, 66, 5, 5, 5, 5, 5]\n",
      "True\n",
      "14\n"
     ]
    }
   ],
   "source": [
    "marks.append(5)\n",
    "print(marks)\n",
    "marks.insert(1, 88)\n",
    "print(marks)\n",
    "print(88 in marks)\n",
    "print(len(marks))"
   ]
  },
  {
   "cell_type": "code",
   "execution_count": 51,
   "id": "739fca9c",
   "metadata": {},
   "outputs": [
    {
     "name": "stdout",
     "output_type": "stream",
     "text": [
      "[]\n"
     ]
    }
   ],
   "source": [
    "marks1 = [25, 28, 67]\n",
    "\n",
    "i = 0\n",
    "while i < len(marks):\n",
    "    print(marks[i])\n",
    "    i = i+1\n",
    "    \n",
    "marks1.clear()\n",
    "print(marks1)"
   ]
  },
  {
   "cell_type": "code",
   "execution_count": 55,
   "id": "07dd16d2",
   "metadata": {},
   "outputs": [
    {
     "name": "stdout",
     "output_type": "stream",
     "text": [
      "ram\n",
      "shayam\n"
     ]
    }
   ],
   "source": [
    "students = [\"ram\", \"shayam\", \"lokesh\", \"nidhi\", \"sumedha\"]\n",
    "\n",
    "for student in students:\n",
    "    if student == \"lokesh\":\n",
    "        break;\n",
    "    print(student)"
   ]
  },
  {
   "cell_type": "code",
   "execution_count": 56,
   "id": "45be7e00",
   "metadata": {},
   "outputs": [
    {
     "name": "stdout",
     "output_type": "stream",
     "text": [
      "ram\n",
      "shayam\n",
      "nidhi\n",
      "sumedha\n"
     ]
    }
   ],
   "source": [
    "for student in students:\n",
    "    if student == \"lokesh\":\n",
    "        continue;\n",
    "    print(student)"
   ]
  },
  {
   "cell_type": "code",
   "execution_count": 64,
   "id": "2cd777d6",
   "metadata": {},
   "outputs": [
    {
     "name": "stdout",
     "output_type": "stream",
     "text": [
      "2\n",
      "4\n"
     ]
    }
   ],
   "source": [
    "marks = (95, 99, 75, 45, 85, 75)\n",
    "# marks.append(85)\\\n",
    "print(marks.count(75))\n",
    "\n",
    "print(marks.index(85))"
   ]
  },
  {
   "cell_type": "code",
   "execution_count": 69,
   "id": "a8362217",
   "metadata": {},
   "outputs": [
    {
     "name": "stdout",
     "output_type": "stream",
     "text": [
      "67\n",
      "99\n",
      "83\n",
      "74\n",
      "75\n"
     ]
    }
   ],
   "source": [
    "marks2 = {74,83,75,99,67} \n",
    "# print(marks2[0])\n",
    "\n",
    "for scores1 in marks2:\n",
    "    print(scores1)"
   ]
  },
  {
   "cell_type": "code",
   "execution_count": 71,
   "id": "cef8405e",
   "metadata": {},
   "outputs": [
    {
     "name": "stdout",
     "output_type": "stream",
     "text": [
      "87\n",
      "{'english': 95, 'chemistry': 87, 'physics': 99}\n"
     ]
    }
   ],
   "source": [
    "marks3 = {\"english\" : 95, \"chemistry\": 87}\n",
    "\n",
    "print(marks3[\"chemistry\"])\n",
    "marks3[\"physics\"] = 99\n",
    "print(marks3)"
   ]
  },
  {
   "cell_type": "markdown",
   "id": "1c7cee74",
   "metadata": {},
   "source": [
    "################################################################################\n",
    "\n",
    "1. In-Built Function\n",
    "2. Module Function\n",
    "3. User-Defined Function"
   ]
  },
  {
   "cell_type": "code",
   "execution_count": 73,
   "id": "8359e219",
   "metadata": {},
   "outputs": [
    {
     "name": "stdout",
     "output_type": "stream",
     "text": [
      "['__doc__', '__loader__', '__name__', '__package__', '__spec__', 'acos', 'acosh', 'asin', 'asinh', 'atan', 'atan2', 'atanh', 'ceil', 'comb', 'copysign', 'cos', 'cosh', 'degrees', 'dist', 'e', 'erf', 'erfc', 'exp', 'expm1', 'fabs', 'factorial', 'floor', 'fmod', 'frexp', 'fsum', 'gamma', 'gcd', 'hypot', 'inf', 'isclose', 'isfinite', 'isinf', 'isnan', 'isqrt', 'lcm', 'ldexp', 'lgamma', 'log', 'log10', 'log1p', 'log2', 'modf', 'nan', 'nextafter', 'perm', 'pi', 'pow', 'prod', 'radians', 'remainder', 'sin', 'sinh', 'sqrt', 'tan', 'tanh', 'tau', 'trunc', 'ulp']\n"
     ]
    }
   ],
   "source": [
    "import math\n",
    "print(dir(math)) #moduale function"
   ]
  },
  {
   "cell_type": "code",
   "execution_count": 75,
   "id": "14dc7fdd",
   "metadata": {},
   "outputs": [
    {
     "name": "stdout",
     "output_type": "stream",
     "text": [
      "4.0\n"
     ]
    }
   ],
   "source": [
    "from math import sqrt\n",
    "# from math import *   #all function are used\n",
    "print(sqrt(16))"
   ]
  },
  {
   "cell_type": "markdown",
   "id": "3fdc118d",
   "metadata": {},
   "source": [
    "def function_name(parameters):\n",
    "   \n",
    "   //do something\n"
   ]
  },
  {
   "cell_type": "code",
   "execution_count": 82,
   "id": "fbea48c8",
   "metadata": {},
   "outputs": [
    {
     "name": "stdout",
     "output_type": "stream",
     "text": [
      "13\n"
     ]
    }
   ],
   "source": [
    "def print_sum(first, secound=5):\n",
    "    print(first + secound)\n",
    "    \n",
    "    \n",
    "print_sum(8)"
   ]
  },
  {
   "cell_type": "code",
   "execution_count": null,
   "id": "3247f7d4",
   "metadata": {},
   "outputs": [],
   "source": []
  }
 ],
 "metadata": {
  "kernelspec": {
   "display_name": "Python 3 (ipykernel)",
   "language": "python",
   "name": "python3"
  },
  "language_info": {
   "codemirror_mode": {
    "name": "ipython",
    "version": 3
   },
   "file_extension": ".py",
   "mimetype": "text/x-python",
   "name": "python",
   "nbconvert_exporter": "python",
   "pygments_lexer": "ipython3",
   "version": "3.9.12"
  }
 },
 "nbformat": 4,
 "nbformat_minor": 5
}
