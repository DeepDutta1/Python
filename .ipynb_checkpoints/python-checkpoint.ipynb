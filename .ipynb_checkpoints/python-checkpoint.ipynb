{
 "cells": [
  {
   "cell_type": "code",
   "execution_count": 1,
   "id": "cc7ea213",
   "metadata": {},
   "outputs": [
    {
     "name": "stdout",
     "output_type": "stream",
     "text": [
      "Hello World\n"
     ]
    }
   ],
   "source": [
    "                                                                print(\"Hello World\")"
   ]
  },
  {
   "cell_type": "code",
   "execution_count": 4,
   "id": "793d7f47",
   "metadata": {},
   "outputs": [
    {
     "name": "stdout",
     "output_type": "stream",
     "text": [
      "aman\n",
      "24\n",
      "1.06\n"
     ]
    }
   ],
   "source": [
    "name = \"aman\"\n",
    "age = 24\n",
    "d_o_b = 01.06\n",
    "is_adulr = False\n",
    "\n",
    "print(name)\n",
    "print(age)\n",
    "print(d_o_b)"
   ]
  },
  {
   "cell_type": "code",
   "execution_count": 12,
   "id": "978214df",
   "metadata": {},
   "outputs": [
    {
     "name": "stdout",
     "output_type": "stream",
     "text": [
      "what is your name : deep\n",
      "deep\n",
      "hello deep\n"
     ]
    }
   ],
   "source": [
    "name = input(\"what is your name : \")\n",
    "print(name)\n",
    "print(\"hello \"+name) #concatenation"
   ]
  },
  {
   "cell_type": "code",
   "execution_count": 20,
   "id": "57786f81",
   "metadata": {},
   "outputs": [
    {
     "name": "stdout",
     "output_type": "stream",
     "text": [
      "enter your age : 25\n",
      "27\n"
     ]
    }
   ],
   "source": [
    "old_age = input(\"enter your age : \")\n",
    "\n",
    "new_age = int(old_age) + 2\n",
    "print(new_age)"
   ]
  },
  {
   "cell_type": "code",
   "execution_count": 24,
   "id": "d1f65bea",
   "metadata": {},
   "outputs": [
    {
     "name": "stdout",
     "output_type": "stream",
     "text": [
      "18.0\n",
      "18\n"
     ]
    },
    {
     "data": {
      "text/plain": [
       "False"
      ]
     },
     "execution_count": 24,
     "metadata": {},
     "output_type": "execute_result"
    }
   ],
   "source": [
    "number = 18\n",
    "print(float(number))\n",
    "int()\n",
    "print(str(number))\n",
    "bool()"
   ]
  },
  {
   "cell_type": "code",
   "execution_count": 27,
   "id": "5f4c6085",
   "metadata": {},
   "outputs": [
    {
     "name": "stdout",
     "output_type": "stream",
     "text": [
      "enter first no. : 5\n",
      "enter secound no. : 55\n",
      "60\n"
     ]
    }
   ],
   "source": [
    "first = int(input(\"enter first no. : \"))\n",
    "secound = int(input(\"enter secound no. : \"))\n",
    "\n",
    "sum = first + secound \n",
    "print(sum)"
   ]
  },
  {
   "cell_type": "code",
   "execution_count": 3,
   "id": "2b444671",
   "metadata": {},
   "outputs": [
    {
     "name": "stdout",
     "output_type": "stream",
     "text": [
      "1\n",
      "2\n",
      "1\n",
      "Deep Modak\n",
      "False\n"
     ]
    }
   ],
   "source": [
    "name =\"Deep Dutta\"\n",
    "\n",
    "# print(name.upper())\n",
    "# name_lower = name.lower()\n",
    "# print(name_lower)\n",
    "print(name.find('e'))\n",
    "print(name.count(\"e\"))\n",
    "print(name.index(\"e\"))\n",
    "\n",
    "print(name.replace(\"Dutta\", \"Modak\"))\n",
    "print(\"T\" in name) #for see the alphabet is present or not\n"
   ]
  },
  {
   "cell_type": "code",
   "execution_count": 8,
   "id": "e694139f",
   "metadata": {},
   "outputs": [
    {
     "name": "stdout",
     "output_type": "stream",
     "text": [
      "10\n",
      "1.6666666666666667\n",
      "625\n"
     ]
    }
   ],
   "source": [
    "print(5*2)\n",
    "print(5/3)\n",
    "\n",
    "print(5**4)"
   ]
  },
  {
   "cell_type": "code",
   "execution_count": 11,
   "id": "0affe02a",
   "metadata": {},
   "outputs": [
    {
     "name": "stdout",
     "output_type": "stream",
     "text": [
      "enter your age1\n",
      "you are a child\n"
     ]
    }
   ],
   "source": [
    "age = int(input(\"enter your age\"))\n",
    "\n",
    "if age >=18:\n",
    "    print(\"your are an adult\")\n",
    "    print(\"you can vote\")\n",
    "elif age <18 and age >3:\n",
    "    print(\"you ate in school\")\n",
    "else:\n",
    "    print(\"you are a child\")"
   ]
  },
  {
   "cell_type": "markdown",
   "id": "b8ac973e",
   "metadata": {},
   "source": [
    "# calculator"
   ]
  },
  {
   "cell_type": "code",
   "execution_count": 1,
   "id": "375e19eb",
   "metadata": {},
   "outputs": [
    {
     "ename": "SyntaxError",
     "evalue": "invalid syntax (2360060210.py, line 13)",
     "output_type": "error",
     "traceback": [
      "\u001b[1;36m  Input \u001b[1;32mIn [1]\u001b[1;36m\u001b[0m\n\u001b[1;33m    else operator == \"/\":\u001b[0m\n\u001b[1;37m         ^\u001b[0m\n\u001b[1;31mSyntaxError\u001b[0m\u001b[1;31m:\u001b[0m invalid syntax\n"
     ]
    }
   ],
   "source": [
    "a = int(input(\"enter your first number : \"))\n",
    "operator = input(\"enter operator (+,-, *, /)\")\n",
    "b = int(input(\"enter your first numger : \"))\n",
    "\n",
    "if operator == \"+\":\n",
    "    print(a + b)\n",
    "elif operator == \"-\":\n",
    "    print(a - b)\n",
    "elif operator == \"*\":\n",
    "    print(a * b)\n",
    "elif operator == \"%\":\n",
    "    print(a % b)\n",
    "else operator == \"\\\":\n",
    "    print(a \\ b)\n",
    "\n",
    "\n",
    "if operator \n",
    "\n",
    "# print(\"Menu\")\n",
    "# print(\"1. sum \")\n",
    "# print(\"2. subtrct\")\n",
    "# print(\"3. exit\")\n",
    "\n",
    "\n",
    "\n",
    "# while(1):\n",
    "    "
   ]
  },
  {
   "cell_type": "code",
   "execution_count": null,
   "id": "856c818e",
   "metadata": {},
   "outputs": [],
   "source": []
  }
 ],
 "metadata": {
  "kernelspec": {
   "display_name": "Python 3 (ipykernel)",
   "language": "python",
   "name": "python3"
  },
  "language_info": {
   "codemirror_mode": {
    "name": "ipython",
    "version": 3
   },
   "file_extension": ".py",
   "mimetype": "text/x-python",
   "name": "python",
   "nbconvert_exporter": "python",
   "pygments_lexer": "ipython3",
   "version": "3.9.12"
  }
 },
 "nbformat": 4,
 "nbformat_minor": 5
}
